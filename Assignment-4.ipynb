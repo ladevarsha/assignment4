{
 "cells": [
  {
   "cell_type": "code",
   "execution_count": null,
   "id": "0a75fb1a-0608-4a51-9a63-0a9cc674f089",
   "metadata": {},
   "outputs": [],
   "source": [
    "1.Explain with an example each when to use a for loop and a while loop?\n",
    "Ans- for loop used to repeatedly execute a block of code for a fixed number of a times.\n",
    "example- using a for loop to print out numbers from 0 to 4:\n",
    "         \n",
    "        for i in range(5):\n",
    "            print(i)\n",
    "            \n",
    "output:  0\n",
    "         1\n",
    "         2\n",
    "         3\n",
    "         4\n",
    "you can also use a for loop to iterate over elements in a list:\n",
    "      \n",
    "example -       fruits = ['apple','banana','cherry']\n",
    "                for fruits in fruits:\n",
    "                    print(fruit)\n",
    "            \n",
    "output:  apple\n",
    "         banana \n",
    "         cherry"
   ]
  },
  {
   "cell_type": "code",
   "execution_count": null,
   "id": "d284a534-7e36-4fd6-99aa-bb0915bd0517",
   "metadata": {},
   "outputs": [],
   "source": [
    "while loop- repeat a block of code as long as a certain condition met"
   ]
  },
  {
   "cell_type": "code",
   "execution_count": null,
   "id": "f904923b-7d60-4e26-befd-af316bd63ae8",
   "metadata": {},
   "outputs": [],
   "source": [
    "example- print the numbers 0 to 4\n",
    "         \n",
    "         count = 0\n",
    "         print(count)\n",
    "         count += 1"
   ]
  },
  {
   "cell_type": "code",
   "execution_count": null,
   "id": "7e1d43fb-7804-4538-a1be-21f8faf9a886",
   "metadata": {},
   "outputs": [],
   "source": [
    "2.Write a python program to print the sum and product of the first 10 natural numbers using for and while loop.\n",
    "Ans- #using for loop\n",
    "     sum = 0\n",
    "     product = 1\n",
    "        \n",
    "        for i in range(1,11):\n",
    "            sum += i\n",
    "            product *= i\n",
    "    print(\"sum of the first 10 natural numbers:\", sum)\n",
    "    print(\"product of the first 10 natural numbers:\",product)"
   ]
  },
  {
   "cell_type": "code",
   "execution_count": null,
   "id": "24f8e5ff-66d0-4595-8d1e-1abcc837b5a8",
   "metadata": {},
   "outputs": [],
   "source": [
    "#using while loop\n",
    "    sum = 0\n",
    "    product = 1\n",
    "    i = 1\n",
    "     while i <= 10:\n",
    "            sum += i\n",
    "            product *= i\n",
    "            i += 1\n",
    "            \n",
    "    print(\"sum of the first 10 natural numbers:\",sum)\n",
    "    print(\"product of the first 10 natural numbers:\",product)"
   ]
  },
  {
   "cell_type": "code",
   "execution_count": null,
   "id": "94efbcf2-2baf-4005-8855-8aa4ed5c80d7",
   "metadata": {},
   "outputs": [],
   "source": [
    "3."
   ]
  }
 ],
 "metadata": {
  "kernelspec": {
   "display_name": "Python 3 (ipykernel)",
   "language": "python",
   "name": "python3"
  },
  "language_info": {
   "codemirror_mode": {
    "name": "ipython",
    "version": 3
   },
   "file_extension": ".py",
   "mimetype": "text/x-python",
   "name": "python",
   "nbconvert_exporter": "python",
   "pygments_lexer": "ipython3",
   "version": "3.10.8"
  }
 },
 "nbformat": 4,
 "nbformat_minor": 5
}
